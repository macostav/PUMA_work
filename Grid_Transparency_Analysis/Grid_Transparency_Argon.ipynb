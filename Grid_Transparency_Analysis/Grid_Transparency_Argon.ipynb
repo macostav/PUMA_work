{
 "cells": [
  {
   "cell_type": "markdown",
   "id": "35933a50-9d6c-46f5-9efb-3095fc856087",
   "metadata": {},
   "source": [
    "# What is in this notebook?"
   ]
  },
  {
   "cell_type": "markdown",
   "id": "6a6454b2-d3b9-4002-ba11-aae02cc5875a",
   "metadata": {},
   "source": [
    "This notebook contains my analysis for finding the grid transparency of PUMA in Argon."
   ]
  },
  {
   "cell_type": "markdown",
   "id": "f37e5800-cc52-4415-9927-c2e6b021b2c7",
   "metadata": {},
   "source": [
    "# First Step: Getting all waveforms"
   ]
  },
  {
   "cell_type": "code",
   "execution_count": null,
   "id": "468caec0-0da4-411c-872a-2cf6e44d319a",
   "metadata": {},
   "outputs": [],
   "source": []
  }
 ],
 "metadata": {
  "kernelspec": {
   "display_name": "Python 3 (ipykernel)",
   "language": "python",
   "name": "python3"
  },
  "language_info": {
   "codemirror_mode": {
    "name": "ipython",
    "version": 3
   },
   "file_extension": ".py",
   "mimetype": "text/x-python",
   "name": "python",
   "nbconvert_exporter": "python",
   "pygments_lexer": "ipython3",
   "version": "3.9.21"
  }
 },
 "nbformat": 4,
 "nbformat_minor": 5
}
